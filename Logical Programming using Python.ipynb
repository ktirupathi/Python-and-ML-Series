{
 "cells": [
  {
   "cell_type": "code",
   "execution_count": 16,
   "id": "925aa8d8",
   "metadata": {},
   "outputs": [
    {
     "name": "stdout",
     "output_type": "stream",
     "text": [
      "3\n"
     ]
    }
   ],
   "source": [
    "\n",
    "\n",
    "x = 0\n",
    "a = 5\n",
    "b = 5\n",
    "if a > 0:\n",
    "    if b < 0: \n",
    "        x = x + 5 \n",
    "    elif a > 5:\n",
    "        x = x + 4\n",
    "    else:\n",
    "        x = x + 3\n",
    "else:\n",
    "    x = x + 2\n",
    "print(x)"
   ]
  },
  {
   "cell_type": "code",
   "execution_count": 17,
   "id": "0ea2a93a",
   "metadata": {},
   "outputs": [],
   "source": [
    "str1 = \"welcome to the beautiful world of python\""
   ]
  },
  {
   "cell_type": "code",
   "execution_count": 20,
   "id": "c1c8c62a",
   "metadata": {},
   "outputs": [
    {
     "data": {
      "text/plain": [
       "'Welcome To The Beautiful World Of Python'"
      ]
     },
     "execution_count": 20,
     "metadata": {},
     "output_type": "execute_result"
    }
   ],
   "source": [
    "str1.title()"
   ]
  },
  {
   "cell_type": "code",
   "execution_count": 20,
   "id": "3ae5772e",
   "metadata": {},
   "outputs": [
    {
     "name": "stdout",
     "output_type": "stream",
     "text": [
      "1\n",
      "\n",
      "12\n",
      "\n",
      "123\n",
      "\n",
      "1234\n",
      "\n",
      "12345\n",
      "\n"
     ]
    }
   ],
   "source": [
    "for i in range(1,6):\n",
    "    for j in range(1,i+1):\n",
    "        print(j,end = \"\")\n",
    "    print(\"\\n\")"
   ]
  },
  {
   "cell_type": "markdown",
   "id": "c72ea124",
   "metadata": {},
   "source": [
    "Write a program to accept a number from a user and calculate the sum of all numbers from 1 to a given number"
   ]
  },
  {
   "cell_type": "code",
   "execution_count": 31,
   "id": "031e9fb1",
   "metadata": {},
   "outputs": [
    {
     "name": "stdout",
     "output_type": "stream",
     "text": [
      "Enter any number: 21\n",
      "231\n"
     ]
    }
   ],
   "source": [
    "n1 = int(input(\"Enter any number: \"))\n",
    "sum1 = 0\n",
    "for i in range(1,n1+1):\n",
    "    sum1 =i + sum1\n",
    "print(sum1)"
   ]
  },
  {
   "cell_type": "markdown",
   "id": "19099cc7",
   "metadata": {},
   "source": [
    "Write a program to use for loop to print the following reverse number pattern\n",
    "\n",
    "5 4 3 2 1 \n",
    "\n",
    "4 3 2 1 \n",
    "\n",
    "3 2 1 \n",
    "\n",
    "2 1 \n",
    "\n",
    "1"
   ]
  },
  {
   "cell_type": "code",
   "execution_count": 42,
   "id": "573c6b8d",
   "metadata": {},
   "outputs": [
    {
     "name": "stdout",
     "output_type": "stream",
     "text": [
      "54321 \n",
      "4321 \n",
      "321 \n",
      "21 \n",
      "1 \n",
      " \n"
     ]
    }
   ],
   "source": [
    "n = 5\n",
    "k = 5\n",
    "for i in range(0,n+1):\n",
    "    for j in range(k-i,0,-1):\n",
    "        print(j,end=\"\")\n",
    "    print(\" \")"
   ]
  },
  {
   "cell_type": "markdown",
   "id": "b612c687",
   "metadata": {},
   "source": [
    "Write a program to use for loop to print the following reverse number pattern\n",
    "\n",
    "5 5 5 5 5\n",
    "\n",
    "4 4 4 4\n",
    "\n",
    "3  3 3\n",
    "\n",
    "2 2 \n",
    "\n",
    "1"
   ]
  },
  {
   "cell_type": "code",
   "execution_count": 40,
   "id": "9025f032",
   "metadata": {},
   "outputs": [
    {
     "name": "stdout",
     "output_type": "stream",
     "text": [
      "55555 \n",
      "4444 \n",
      "333 \n",
      "22 \n",
      "1 \n",
      " \n"
     ]
    }
   ],
   "source": [
    "n = 5\n",
    "k = 5\n",
    "for i in range(0,n+1):\n",
    "    for j in range(k-i,0,-1):\n",
    "        print(n-i,end=\"\")\n",
    "    print(\" \")"
   ]
  },
  {
   "cell_type": "code",
   "execution_count": 43,
   "id": "882874e2",
   "metadata": {},
   "outputs": [],
   "source": [
    "# print the following list in reverse order:\n",
    "\n",
    "list1 = [10, 20, 30, 40, 50]\n"
   ]
  },
  {
   "cell_type": "code",
   "execution_count": 44,
   "id": "8752be57",
   "metadata": {},
   "outputs": [],
   "source": [
    "list1.reverse()"
   ]
  },
  {
   "cell_type": "code",
   "execution_count": 48,
   "id": "7ea8f70a",
   "metadata": {},
   "outputs": [],
   "source": [
    "list1 = list1[::-1]\n"
   ]
  },
  {
   "cell_type": "code",
   "execution_count": 49,
   "id": "03b024d9",
   "metadata": {},
   "outputs": [
    {
     "data": {
      "text/plain": [
       "[50, 40, 30, 20, 10]"
      ]
     },
     "execution_count": 49,
     "metadata": {},
     "output_type": "execute_result"
    }
   ],
   "source": [
    "list1[::-1]\n"
   ]
  },
  {
   "cell_type": "code",
   "execution_count": 56,
   "id": "01b0681f",
   "metadata": {},
   "outputs": [
    {
     "name": "stdout",
     "output_type": "stream",
     "text": [
      "-10 -9 -8 -7 -6 -5 -4 -3 -2 -1 "
     ]
    }
   ],
   "source": [
    "for i in range(-10,0,1):\n",
    "    print(i, end=\" \")"
   ]
  },
  {
   "cell_type": "markdown",
   "id": "17406882",
   "metadata": {},
   "source": [
    "Write a program to print the cube of all numbers from 1 to a given number\n",
    "\n"
   ]
  },
  {
   "cell_type": "code",
   "execution_count": 57,
   "id": "b7704354",
   "metadata": {},
   "outputs": [
    {
     "name": "stdout",
     "output_type": "stream",
     "text": [
      "21\n",
      "1\n",
      "8\n",
      "27\n",
      "64\n",
      "125\n",
      "216\n",
      "343\n",
      "512\n",
      "729\n",
      "1000\n",
      "1331\n",
      "1728\n",
      "2197\n",
      "2744\n",
      "3375\n",
      "4096\n",
      "4913\n",
      "5832\n",
      "6859\n",
      "8000\n",
      "9261\n"
     ]
    }
   ],
   "source": [
    "n = int(input())\n",
    "for i in range(1,n+1):\n",
    "    print(i*i*i)"
   ]
  },
  {
   "cell_type": "markdown",
   "id": "223b9f7a",
   "metadata": {},
   "source": [
    "Write a program to use the loop to find the factorial of a given number."
   ]
  },
  {
   "cell_type": "code",
   "execution_count": 61,
   "id": "faa024a8",
   "metadata": {},
   "outputs": [
    {
     "name": "stdout",
     "output_type": "stream",
     "text": [
      "6\n",
      "720\n"
     ]
    }
   ],
   "source": [
    "n = int(input())\n",
    "fact1 = 1\n",
    "for i in range(1,n+1):\n",
    "    fact1 = fact1*i\n",
    "print(fact1)"
   ]
  },
  {
   "cell_type": "markdown",
   "id": "61441314",
   "metadata": {},
   "source": [
    "Display Fibonacci series up to 10 terms"
   ]
  },
  {
   "cell_type": "code",
   "execution_count": 65,
   "id": "64ec2283",
   "metadata": {},
   "outputs": [
    {
     "name": "stdout",
     "output_type": "stream",
     "text": [
      "10\n",
      "1024\n"
     ]
    }
   ],
   "source": [
    "n = int(input())\n",
    "n1 = 0\n",
    "n2 = 1\n",
    "for i in range(1,n+1):\n",
    "    n1 = n2\n",
    "    res = n1+n2\n",
    "    n2 = res\n",
    "    print(res)"
   ]
  },
  {
   "cell_type": "code",
   "execution_count": 5,
   "id": "94296375",
   "metadata": {},
   "outputs": [
    {
     "name": "stdout",
     "output_type": "stream",
     "text": [
      "Satyam 102\n"
     ]
    }
   ],
   "source": [
    "class Person(object):\n",
    "   \n",
    "  # Constructor\n",
    "      def __init__(self, name, id):\n",
    "        self.name = name\n",
    "        self.id = id\n",
    " \n",
    "  # To check if this person is an employee\n",
    "      def Display(self):\n",
    "        print(self.name, self.id)\n",
    "\n",
    "# Driver code\n",
    "emp = Person(\"Satyam\", 102) # An Object of Person\n",
    "emp.Display()"
   ]
  },
  {
   "cell_type": "code",
   "execution_count": 6,
   "id": "d6d6661e",
   "metadata": {},
   "outputs": [
    {
     "name": "stdout",
     "output_type": "stream",
     "text": [
      "New Delhi is the capital of India.\n",
      "Hindi is the most widely spoken language of India.\n",
      "India is a developing country.\n",
      "Washington, D.C. is the capital of USA.\n",
      "English is the primary language of USA.\n",
      "USA is a developed country.\n"
     ]
    }
   ],
   "source": [
    "class India():\n",
    "    def capital(self):\n",
    "        print(\"New Delhi is the capital of India.\")\n",
    "        \n",
    "    def language(self):\n",
    "        print(\"Hindi is the most widely spoken language of India.\")\n",
    "\n",
    "    def type(self):\n",
    "        print(\"India is a developing country.\")\n",
    "\n",
    "class USA():\n",
    "    def capital(self):\n",
    "        print(\"Washington, D.C. is the capital of USA.\")\n",
    "\n",
    "    def language(self):\n",
    "        print(\"English is the primary language of USA.\")\n",
    "\n",
    "    def type(self):\n",
    "        print(\"USA is a developed country.\")\n",
    "\n",
    "obj_ind = India()\n",
    "obj_usa = USA()\n",
    "for country in (obj_ind, obj_usa):\n",
    "    country.capital()\n",
    "    country.language()\n",
    "    country.type()"
   ]
  },
  {
   "cell_type": "code",
   "execution_count": 11,
   "id": "d40875e7",
   "metadata": {},
   "outputs": [],
   "source": [
    "def func(obj):\n",
    "    obj.capital()\n",
    "    obj.language()"
   ]
  },
  {
   "cell_type": "code",
   "execution_count": 12,
   "id": "555f56be",
   "metadata": {},
   "outputs": [],
   "source": [
    "obj_ind1 = India()\n",
    "obj_usa1 = USA()"
   ]
  },
  {
   "cell_type": "code",
   "execution_count": 13,
   "id": "46cce966",
   "metadata": {},
   "outputs": [
    {
     "name": "stdout",
     "output_type": "stream",
     "text": [
      "New Delhi is the capital of India.\n",
      "Hindi is the most widely spoken language of India.\n",
      "Washington, D.C. is the capital of USA.\n",
      "English is the primary language of USA.\n"
     ]
    }
   ],
   "source": [
    "func(obj_ind)\n",
    "func(obj_usa)"
   ]
  },
  {
   "cell_type": "markdown",
   "id": "472d7117",
   "metadata": {},
   "source": [
    "Write a program to create a function that takes two arguments, name and age, and print their value."
   ]
  },
  {
   "cell_type": "code",
   "execution_count": 3,
   "id": "2f545608",
   "metadata": {},
   "outputs": [],
   "source": [
    "def func(a,b):\n",
    "    a = str(a)\n",
    "    b = int(b)\n",
    "    print(a)\n",
    "    print(b)"
   ]
  },
  {
   "cell_type": "code",
   "execution_count": 4,
   "id": "30cd676e",
   "metadata": {},
   "outputs": [
    {
     "name": "stdout",
     "output_type": "stream",
     "text": [
      "23\n",
      "34\n"
     ]
    }
   ],
   "source": [
    "func(23,34)"
   ]
  },
  {
   "cell_type": "code",
   "execution_count": 7,
   "id": "7f75f175",
   "metadata": {},
   "outputs": [
    {
     "name": "stdout",
     "output_type": "stream",
     "text": [
      "23\n",
      "34\n"
     ]
    },
    {
     "data": {
      "text/plain": [
       "NoneType"
      ]
     },
     "execution_count": 7,
     "metadata": {},
     "output_type": "execute_result"
    }
   ],
   "source": [
    "type(func(23,34))"
   ]
  },
  {
   "cell_type": "markdown",
   "id": "f214238c",
   "metadata": {},
   "source": [
    "Write a program to create function func1() to accept a variable length of arguments and print their value."
   ]
  },
  {
   "cell_type": "code",
   "execution_count": 15,
   "id": "7049ec63",
   "metadata": {},
   "outputs": [],
   "source": [
    "def func(*a):\n",
    "    for i in a:\n",
    "        print(i)"
   ]
  },
  {
   "cell_type": "code",
   "execution_count": 16,
   "id": "f9e6b1c6",
   "metadata": {},
   "outputs": [
    {
     "name": "stdout",
     "output_type": "stream",
     "text": [
      "23\n",
      "34\n",
      "55\n",
      "68\n",
      "97\n",
      "5\n",
      "76\n"
     ]
    }
   ],
   "source": [
    "func(23,34,55,68,97,5,76)"
   ]
  },
  {
   "cell_type": "markdown",
   "id": "f2df76c9",
   "metadata": {},
   "source": [
    "Write a program to create function calculation() such that it can accept two variables and calculate addition and subtraction. Also, it must return both addition and subtraction in a single return call."
   ]
  },
  {
   "cell_type": "code",
   "execution_count": 17,
   "id": "78e2ca58",
   "metadata": {},
   "outputs": [],
   "source": [
    "def calculation(a,b):\n",
    "    return a+b, a-b"
   ]
  },
  {
   "cell_type": "code",
   "execution_count": 18,
   "id": "53fd18d2",
   "metadata": {},
   "outputs": [
    {
     "data": {
      "text/plain": [
       "(156, 22)"
      ]
     },
     "execution_count": 18,
     "metadata": {},
     "output_type": "execute_result"
    }
   ],
   "source": [
    "calculation(89,67)"
   ]
  },
  {
   "cell_type": "markdown",
   "id": "e051ba3f",
   "metadata": {},
   "source": [
    "Write a program to create a function show_employee() using the following conditions.\n",
    "\n",
    "* It should accept the employee’s name and salary and display both.\n",
    "\n",
    "* If the salary is missing in the function call then assign default value 9000 to salary"
   ]
  },
  {
   "cell_type": "code",
   "execution_count": 24,
   "id": "f65d10dd",
   "metadata": {},
   "outputs": [],
   "source": [
    "def show_employee(name,salary=9000):\n",
    "    return name, salary"
   ]
  },
  {
   "cell_type": "code",
   "execution_count": 25,
   "id": "0e4f5a29",
   "metadata": {},
   "outputs": [
    {
     "data": {
      "text/plain": [
       "('Venkata', 4500000)"
      ]
     },
     "execution_count": 25,
     "metadata": {},
     "output_type": "execute_result"
    }
   ],
   "source": [
    "show_employee(\"Venkata\",4500000)"
   ]
  },
  {
   "cell_type": "code",
   "execution_count": 26,
   "id": "c146b7cc",
   "metadata": {},
   "outputs": [
    {
     "data": {
      "text/plain": [
       "('Vamsi', 9000)"
      ]
     },
     "execution_count": 26,
     "metadata": {},
     "output_type": "execute_result"
    }
   ],
   "source": [
    "show_employee(\"Vamsi\")"
   ]
  },
  {
   "cell_type": "markdown",
   "id": "86980b5d",
   "metadata": {},
   "source": [
    "Create an inner function to calculate the addition in the following way--\n",
    "\n",
    "* Create an outer function that will accept two parameters, a and b\n",
    "* Create an inner function inside an outer function that will calculate the addition of a and b\n",
    "* At last, an outer function will add 5 into addition and return it"
   ]
  },
  {
   "cell_type": "code",
   "execution_count": 28,
   "id": "b6375e0d",
   "metadata": {},
   "outputs": [],
   "source": [
    "def accept(a,b):\n",
    "    def addi():\n",
    "        return a+b\n",
    "    return a+b+5"
   ]
  },
  {
   "cell_type": "code",
   "execution_count": 29,
   "id": "bbd5cd32",
   "metadata": {},
   "outputs": [
    {
     "data": {
      "text/plain": [
       "62"
      ]
     },
     "execution_count": 29,
     "metadata": {},
     "output_type": "execute_result"
    }
   ],
   "source": [
    "accept(23,34)"
   ]
  },
  {
   "cell_type": "markdown",
   "id": "a4e5ba6d",
   "metadata": {},
   "source": [
    "Exercise 9: Find the largest item from a given list\n"
   ]
  },
  {
   "cell_type": "code",
   "execution_count": 53,
   "id": "2d62fbab",
   "metadata": {},
   "outputs": [],
   "source": [
    "x = [9,23,34,45,54,3,53,32,102,11324,234,22222,681287,121424,121314,3565461]"
   ]
  },
  {
   "cell_type": "code",
   "execution_count": 54,
   "id": "859b20ac",
   "metadata": {},
   "outputs": [],
   "source": [
    "def large(x):\n",
    "    largest = 0\n",
    "    i = 0\n",
    "    for i in range(len(x)):\n",
    "        if x[i]>largest:\n",
    "            largest = x[i]\n",
    "            i = i+1\n",
    "        else:\n",
    "            pass\n",
    "    return largest"
   ]
  },
  {
   "cell_type": "code",
   "execution_count": 56,
   "id": "711f9aba",
   "metadata": {},
   "outputs": [
    {
     "data": {
      "text/plain": [
       "3565461"
      ]
     },
     "execution_count": 56,
     "metadata": {},
     "output_type": "execute_result"
    }
   ],
   "source": [
    "large(x)"
   ]
  },
  {
   "cell_type": "markdown",
   "id": "98ba0e2e",
   "metadata": {},
   "source": [
    "Exercise 9: Find the smallest item from a given list"
   ]
  },
  {
   "cell_type": "code",
   "execution_count": 157,
   "id": "15aa060b",
   "metadata": {},
   "outputs": [],
   "source": [
    "def small(x):\n",
    "    i = 0\n",
    "    smallest = x[i]\n",
    "    for i in range(0, len(x)-1):\n",
    "        if smallest > x[i+1]:\n",
    "            smallest = x[i+1]\n",
    "            i = i+1\n",
    "        else:\n",
    "            pass    \n",
    "    return smallest"
   ]
  },
  {
   "cell_type": "code",
   "execution_count": 158,
   "id": "ecb0f507",
   "metadata": {},
   "outputs": [
    {
     "data": {
      "text/plain": [
       "-242452842"
      ]
     },
     "execution_count": 158,
     "metadata": {},
     "output_type": "execute_result"
    }
   ],
   "source": [
    "small(x)"
   ]
  },
  {
   "cell_type": "code",
   "execution_count": 154,
   "id": "50a78479",
   "metadata": {},
   "outputs": [],
   "source": [
    "x = [9,23,34,45,54,39,3,-242452842]"
   ]
  },
  {
   "cell_type": "code",
   "execution_count": 155,
   "id": "58bef014",
   "metadata": {},
   "outputs": [],
   "source": []
  },
  {
   "cell_type": "code",
   "execution_count": 156,
   "id": "354a205c",
   "metadata": {},
   "outputs": [
    {
     "name": "stdout",
     "output_type": "stream",
     "text": [
      "-242452842\n"
     ]
    }
   ],
   "source": [
    "print(smallest)"
   ]
  },
  {
   "cell_type": "markdown",
   "id": "48b92b9c",
   "metadata": {},
   "source": [
    "Exercise 9: Find the largest item from a given list"
   ]
  },
  {
   "cell_type": "code",
   "execution_count": 151,
   "id": "c7ce8666",
   "metadata": {},
   "outputs": [],
   "source": [
    "x = [-3,0,-39,3,-242452842]"
   ]
  },
  {
   "cell_type": "code",
   "execution_count": 152,
   "id": "4782cb06",
   "metadata": {},
   "outputs": [],
   "source": [
    "i = 0\n",
    "largest = x[i]\n",
    "for i in range(0, len(x)-1):\n",
    "    if largest < x[i+1]:\n",
    "        largest = x[i+1]\n",
    "        i = i+1\n",
    "    else:\n",
    "        pass"
   ]
  },
  {
   "cell_type": "code",
   "execution_count": 153,
   "id": "acc714ad",
   "metadata": {},
   "outputs": [
    {
     "name": "stdout",
     "output_type": "stream",
     "text": [
      "3\n"
     ]
    }
   ],
   "source": [
    "print(largest)"
   ]
  },
  {
   "cell_type": "markdown",
   "id": "45c3b813",
   "metadata": {},
   "source": [
    "Convert two lists into a dictionary\n"
   ]
  },
  {
   "cell_type": "code",
   "execution_count": 159,
   "id": "e2a928ae",
   "metadata": {},
   "outputs": [],
   "source": [
    "keys = ['Ten', 'Twenty', 'Thirty']\n",
    "values = [10, 20, 30]"
   ]
  },
  {
   "cell_type": "code",
   "execution_count": 165,
   "id": "b7b8eee3",
   "metadata": {},
   "outputs": [],
   "source": [
    "dict1 = dict(zip(keys,values))"
   ]
  },
  {
   "cell_type": "code",
   "execution_count": 166,
   "id": "518ef753",
   "metadata": {},
   "outputs": [
    {
     "data": {
      "text/plain": [
       "{'Ten': 10, 'Twenty': 20, 'Thirty': 30}"
      ]
     },
     "execution_count": 166,
     "metadata": {},
     "output_type": "execute_result"
    }
   ],
   "source": [
    "dict1"
   ]
  },
  {
   "cell_type": "markdown",
   "id": "8321128c",
   "metadata": {},
   "source": [
    "Merge two Python dictionaries into one"
   ]
  },
  {
   "cell_type": "code",
   "execution_count": 167,
   "id": "ac1e2f51",
   "metadata": {},
   "outputs": [],
   "source": [
    "dict1 = {'Ten': 10, 'Twenty': 20, 'Thirty': 30}\n",
    "dict2 = {'Thirty': 30, 'Fourty': 40, 'Fifty': 50}"
   ]
  },
  {
   "cell_type": "code",
   "execution_count": 168,
   "id": "9ead28c8",
   "metadata": {},
   "outputs": [],
   "source": [
    "dict3 = dict1.copy()"
   ]
  },
  {
   "cell_type": "code",
   "execution_count": 169,
   "id": "cc81537b",
   "metadata": {},
   "outputs": [],
   "source": [
    "dict3.update(dict2)"
   ]
  },
  {
   "cell_type": "code",
   "execution_count": 170,
   "id": "8b8be104",
   "metadata": {},
   "outputs": [
    {
     "data": {
      "text/plain": [
       "{'Ten': 10, 'Twenty': 20, 'Thirty': 30, 'Fourty': 40, 'Fifty': 50}"
      ]
     },
     "execution_count": 170,
     "metadata": {},
     "output_type": "execute_result"
    }
   ],
   "source": [
    "dict3"
   ]
  },
  {
   "cell_type": "markdown",
   "id": "a75278ac",
   "metadata": {},
   "source": [
    "Print the value of key ‘history’ from the below dict"
   ]
  },
  {
   "cell_type": "code",
   "execution_count": 171,
   "id": "37c579a2",
   "metadata": {},
   "outputs": [],
   "source": [
    "sampleDict = {\n",
    "    \"class\": {\n",
    "        \"student\": {\n",
    "            \"name\": \"Mike\",\n",
    "            \"marks\": {\n",
    "                \"physics\": 70,\n",
    "                \"history\": 80\n",
    "            }\n",
    "        }\n",
    "    }\n",
    "}"
   ]
  },
  {
   "cell_type": "code",
   "execution_count": 176,
   "id": "8811f9f3",
   "metadata": {},
   "outputs": [
    {
     "data": {
      "text/plain": [
       "80"
      ]
     },
     "execution_count": 176,
     "metadata": {},
     "output_type": "execute_result"
    }
   ],
   "source": [
    "sampleDict[\"class\"][\"student\"][\"marks\"][\"history\"]"
   ]
  },
  {
   "cell_type": "markdown",
   "id": "b0b91b5c",
   "metadata": {},
   "source": [
    "Create a dictionary by extracting the keys from a given dictionary"
   ]
  },
  {
   "cell_type": "code",
   "execution_count": 177,
   "id": "e71b3ad1",
   "metadata": {},
   "outputs": [],
   "source": [
    "sample_dict = {\n",
    "    \"name\": \"Kelly\",\n",
    "    \"age\": 25,\n",
    "    \"salary\": 8000,\n",
    "    \"city\": \"New york\"}\n",
    "\n",
    "# Keys to extract\n",
    "keys = [\"name\", \"salary\"]"
   ]
  },
  {
   "cell_type": "code",
   "execution_count": 179,
   "id": "7db8456d",
   "metadata": {},
   "outputs": [],
   "source": [
    "new_dict = {k: sample_dict[k] for k in keys}"
   ]
  },
  {
   "cell_type": "code",
   "execution_count": 180,
   "id": "cfe5e632",
   "metadata": {},
   "outputs": [
    {
     "data": {
      "text/plain": [
       "{'name': 'Kelly', 'salary': 8000}"
      ]
     },
     "execution_count": 180,
     "metadata": {},
     "output_type": "execute_result"
    }
   ],
   "source": [
    "new_dict"
   ]
  },
  {
   "cell_type": "code",
   "execution_count": 182,
   "id": "9864a4d3",
   "metadata": {},
   "outputs": [],
   "source": [
    "new_dictt = dict()"
   ]
  },
  {
   "cell_type": "code",
   "execution_count": 185,
   "id": "704cf856",
   "metadata": {},
   "outputs": [],
   "source": [
    "for k in keys:\n",
    "    new_dictt.update({k: sample_dict[k]})"
   ]
  },
  {
   "cell_type": "code",
   "execution_count": 186,
   "id": "e9e53812",
   "metadata": {},
   "outputs": [
    {
     "data": {
      "text/plain": [
       "{'name': 'Kelly', 'salary': 8000}"
      ]
     },
     "execution_count": 186,
     "metadata": {},
     "output_type": "execute_result"
    }
   ],
   "source": [
    "new_dictt"
   ]
  },
  {
   "cell_type": "markdown",
   "id": "f2b91194",
   "metadata": {},
   "source": [
    "Delete a list of keys from a dictionary"
   ]
  },
  {
   "cell_type": "code",
   "execution_count": 194,
   "id": "7437a0d7",
   "metadata": {},
   "outputs": [],
   "source": [
    "sample_dict = {\n",
    "    \"name\": \"Kelly\",\n",
    "    \"age\": 25,\n",
    "    \"salary\": 8000,\n",
    "    \"city\": \"New york\"\n",
    "}\n",
    "\n",
    "# Keys to remove\n",
    "keys1 = [\"name\", \"salary\"]"
   ]
  },
  {
   "cell_type": "code",
   "execution_count": 196,
   "id": "596bc95c",
   "metadata": {},
   "outputs": [],
   "source": [
    "for k in keys1:\n",
    "    sample_dict.pop(k)"
   ]
  },
  {
   "cell_type": "code",
   "execution_count": 197,
   "id": "5871f5e5",
   "metadata": {},
   "outputs": [
    {
     "data": {
      "text/plain": [
       "{'age': 25, 'city': 'New york'}"
      ]
     },
     "execution_count": 197,
     "metadata": {},
     "output_type": "execute_result"
    }
   ],
   "source": [
    "sample_dict"
   ]
  },
  {
   "cell_type": "markdown",
   "id": "43c840dc",
   "metadata": {},
   "source": [
    "Write a Python program to check if value 200 exists in the following dictionary."
   ]
  },
  {
   "cell_type": "code",
   "execution_count": 226,
   "id": "502aed69",
   "metadata": {},
   "outputs": [],
   "source": [
    "sample_dict = {'a': 100, 'b': 200, 'c': 300}\n"
   ]
  },
  {
   "cell_type": "code",
   "execution_count": 227,
   "id": "77ad8ee5",
   "metadata": {},
   "outputs": [
    {
     "data": {
      "text/plain": [
       "dict_values([100, 200, 300])"
      ]
     },
     "execution_count": 227,
     "metadata": {},
     "output_type": "execute_result"
    }
   ],
   "source": [
    "sample_dict.values()"
   ]
  },
  {
   "cell_type": "code",
   "execution_count": 228,
   "id": "dc435ca4",
   "metadata": {},
   "outputs": [
    {
     "name": "stdout",
     "output_type": "stream",
     "text": [
      "Not Exists\n",
      "exists\n",
      "Not Exists\n"
     ]
    }
   ],
   "source": [
    "for i in sample_dict.values():\n",
    "    if i == 200:\n",
    "        print(\"exists\")\n",
    "    else:\n",
    "        pass"
   ]
  },
  {
   "cell_type": "markdown",
   "id": "26590516",
   "metadata": {},
   "source": [
    "Rename a key in the dictionary from city to place"
   ]
  },
  {
   "cell_type": "code",
   "execution_count": 229,
   "id": "f0d4a86a",
   "metadata": {},
   "outputs": [],
   "source": [
    "sample_dict = {\n",
    "    \"name\": \"Kelly\",\n",
    "    \"age\": 25,\n",
    "    \"salary\": 8000,\n",
    "    \"city\": \"New york\"\n",
    "}\n",
    "\n"
   ]
  },
  {
   "cell_type": "code",
   "execution_count": 230,
   "id": "98261b98",
   "metadata": {},
   "outputs": [],
   "source": [
    "sample_dict[\"place\"] = sample_dict.pop(\"city\")"
   ]
  },
  {
   "cell_type": "code",
   "execution_count": 231,
   "id": "5a0c4384",
   "metadata": {},
   "outputs": [
    {
     "data": {
      "text/plain": [
       "{'name': 'Kelly', 'age': 25, 'salary': 8000, 'place': 'New york'}"
      ]
     },
     "execution_count": 231,
     "metadata": {},
     "output_type": "execute_result"
    }
   ],
   "source": [
    "sample_dict"
   ]
  },
  {
   "cell_type": "markdown",
   "id": "1cc655f4",
   "metadata": {},
   "source": [
    "Get the key of a minimum value from the following dictionary"
   ]
  },
  {
   "cell_type": "code",
   "execution_count": 233,
   "id": "c604c580",
   "metadata": {},
   "outputs": [],
   "source": [
    "sample_dict1 = {\n",
    "  'Physics': 82,\n",
    "  'Math': 65,\n",
    "  'history': 75\n",
    "}\n",
    "keys = [\"Physics\", \"Math\",\"history\"]"
   ]
  },
  {
   "cell_type": "code",
   "execution_count": 238,
   "id": "49154a9c",
   "metadata": {},
   "outputs": [
    {
     "data": {
      "text/plain": [
       "'Math'"
      ]
     },
     "execution_count": 238,
     "metadata": {},
     "output_type": "execute_result"
    }
   ],
   "source": [
    "min({k:sample_dict1[k] for k in keys })"
   ]
  },
  {
   "cell_type": "markdown",
   "id": "6dba0325",
   "metadata": {},
   "source": [
    " Create a string made of the first, middle and last character"
   ]
  },
  {
   "cell_type": "code",
   "execution_count": 9,
   "id": "d66f109d",
   "metadata": {},
   "outputs": [],
   "source": [
    "st11 = \"Whatsapp\"\n"
   ]
  },
  {
   "cell_type": "code",
   "execution_count": 10,
   "id": "c2e022a9",
   "metadata": {},
   "outputs": [],
   "source": [
    "st1 = st11[0] + st11[len(st11)//2] + st11[len(st11)-1]"
   ]
  },
  {
   "cell_type": "code",
   "execution_count": 11,
   "id": "b65dff5e",
   "metadata": {},
   "outputs": [
    {
     "data": {
      "text/plain": [
       "'Wsp'"
      ]
     },
     "execution_count": 11,
     "metadata": {},
     "output_type": "execute_result"
    }
   ],
   "source": [
    "st1"
   ]
  },
  {
   "cell_type": "markdown",
   "id": "d7fb088e",
   "metadata": {},
   "source": [
    "Write a program to create a new string made of the middle three characters of an input string."
   ]
  },
  {
   "cell_type": "code",
   "execution_count": 19,
   "id": "54b21e45",
   "metadata": {},
   "outputs": [],
   "source": [
    "str1 = \"Beautiful\""
   ]
  },
  {
   "cell_type": "code",
   "execution_count": 20,
   "id": "91b2f8d4",
   "metadata": {},
   "outputs": [],
   "source": [
    "def prg(str1):\n",
    "    m = str1[len(str1)//2]\n",
    "    m1 = str1[(len(str1)//2)-1]\n",
    "    m2 = str1[(len(str1)//2)+1]\n",
    "    return m1+m+m2"
   ]
  },
  {
   "cell_type": "code",
   "execution_count": 21,
   "id": "7c69d840",
   "metadata": {},
   "outputs": [
    {
     "data": {
      "text/plain": [
       "'uti'"
      ]
     },
     "execution_count": 21,
     "metadata": {},
     "output_type": "execute_result"
    }
   ],
   "source": [
    "prg(str1)"
   ]
  },
  {
   "cell_type": "code",
   "execution_count": 22,
   "id": "d0781752",
   "metadata": {},
   "outputs": [
    {
     "data": {
      "text/plain": [
       "'wak'"
      ]
     },
     "execution_count": 22,
     "metadata": {},
     "output_type": "execute_result"
    }
   ],
   "source": [
    "prg(\"Awake\")"
   ]
  },
  {
   "cell_type": "markdown",
   "id": "bd570894",
   "metadata": {},
   "source": [
    "Append new string in the middle of a given string\n",
    "Given two strings, s1 and s2. \n",
    "* Write a program to create a new string s3 by appending s2 in the middle of s1."
   ]
  },
  {
   "cell_type": "code",
   "execution_count": 42,
   "id": "98ba60f1",
   "metadata": {},
   "outputs": [],
   "source": [
    "s1 = \"Uncle\"\n",
    "s2 = \"Aunty\""
   ]
  },
  {
   "cell_type": "code",
   "execution_count": 43,
   "id": "78daa58b",
   "metadata": {},
   "outputs": [],
   "source": [
    "def middle(s1,s2):\n",
    "    return s1[0:len(s1)//2+1] + s2 + s1[len(s1)//2+1:]"
   ]
  },
  {
   "cell_type": "code",
   "execution_count": 44,
   "id": "12c514c3",
   "metadata": {},
   "outputs": [
    {
     "data": {
      "text/plain": [
       "'UncAuntyle'"
      ]
     },
     "execution_count": 44,
     "metadata": {},
     "output_type": "execute_result"
    }
   ],
   "source": [
    "middle(s1,s2)"
   ]
  },
  {
   "cell_type": "markdown",
   "id": "81a79329",
   "metadata": {},
   "source": [
    "Create a new string made of the first, middle, and last characters of each input string\n",
    "\n",
    "* Given two strings, s1 and s2, write a program to return a new string made of s1 and s2’s first, middle, and last characters."
   ]
  },
  {
   "cell_type": "code",
   "execution_count": 31,
   "id": "adeea120",
   "metadata": {},
   "outputs": [],
   "source": [
    "s1 = \"America\"\n",
    "s2 = \"Japan\""
   ]
  },
  {
   "cell_type": "code",
   "execution_count": 32,
   "id": "4c84f9a3",
   "metadata": {},
   "outputs": [],
   "source": [
    "def new_str(s1,s2):\n",
    "    l1 = len(s1)\n",
    "    l2 = len(s2)\n",
    "    m1 = s1[0]+s2[0]\n",
    "    m2 = s1[l1//2]+s2[l2//2]\n",
    "    m3 = s1[l1-1]+s2[l2-1]\n",
    "    return m1+m2+m3"
   ]
  },
  {
   "cell_type": "code",
   "execution_count": 34,
   "id": "e94d1976",
   "metadata": {},
   "outputs": [
    {
     "data": {
      "text/plain": [
       "'VKkran'"
      ]
     },
     "execution_count": 34,
     "metadata": {},
     "output_type": "execute_result"
    }
   ],
   "source": [
    "new_str(\"Venkata\",\"Kiran\")"
   ]
  },
  {
   "cell_type": "markdown",
   "id": "cc1ec6a1",
   "metadata": {},
   "source": [
    "Arrange string characters such that lowercase letters should come first\n",
    "\n",
    "* Given string contains a combination of the lower and upper case letters. Write a program to arrange the characters of a string so that all lowercase letters should come first."
   ]
  },
  {
   "cell_type": "code",
   "execution_count": 58,
   "id": "12a6c331",
   "metadata": {},
   "outputs": [],
   "source": [
    "def joinstr(str1):\n",
    "    lower = []\n",
    "    upper = []\n",
    "    for i in str1:\n",
    "        if i.islower():\n",
    "            lower.append(i)\n",
    "        else:\n",
    "            upper.append(i)\n",
    "    return \"\".join(lower+upper)"
   ]
  },
  {
   "cell_type": "code",
   "execution_count": 59,
   "id": "7f19e659",
   "metadata": {},
   "outputs": [
    {
     "data": {
      "text/plain": [
       "'yaaloreMBNG'"
      ]
     },
     "execution_count": 59,
     "metadata": {},
     "output_type": "execute_result"
    }
   ],
   "source": [
    "joinstr(\"MyBaNGalore\")"
   ]
  },
  {
   "cell_type": "markdown",
   "id": "2d74d545",
   "metadata": {},
   "source": [
    "Count all letters, digits, and special symbols from a given string"
   ]
  },
  {
   "cell_type": "code",
   "execution_count": 60,
   "id": "3cdc14e4",
   "metadata": {},
   "outputs": [],
   "source": [
    "str1 = \"P@#yn26at^&i5ve\""
   ]
  },
  {
   "cell_type": "code",
   "execution_count": 80,
   "id": "76db06cd",
   "metadata": {},
   "outputs": [],
   "source": [
    "def counta1(str1):\n",
    "    x = 0\n",
    "    y = 0\n",
    "    z = 0\n",
    "    for i in str1:\n",
    "        if i.isalpha():\n",
    "            x = x+1\n",
    "        elif i.isdigit():\n",
    "            y = y+1\n",
    "        else:\n",
    "            z = z+1\n",
    "    return \"No of letters are\",x,\"No of digits are\",y,\"No of symbols are\",z"
   ]
  },
  {
   "cell_type": "code",
   "execution_count": 78,
   "id": "caf06cc9",
   "metadata": {},
   "outputs": [
    {
     "data": {
      "text/plain": [
       "('No of letters are', 6, 'No of digits are', 9, 'No of symbols are', 11)"
      ]
     },
     "execution_count": 78,
     "metadata": {},
     "output_type": "execute_result"
    }
   ],
   "source": [
    "counta1(\"ILOVE1236r67767&*&&^&%&%&&\")"
   ]
  },
  {
   "cell_type": "markdown",
   "id": "5887fa8c",
   "metadata": {},
   "source": [
    "Write a program to find all occurrences of “India” in a given string ignoring the case.\n",
    "\n"
   ]
  },
  {
   "cell_type": "code",
   "execution_count": 81,
   "id": "83c85ee1",
   "metadata": {},
   "outputs": [],
   "source": [
    "str1 = \"Welcome to India and india is an awesome country and india is going to be the future leader.\""
   ]
  },
  {
   "cell_type": "code",
   "execution_count": 82,
   "id": "554bd830",
   "metadata": {},
   "outputs": [],
   "source": [
    "str2 = \"India\""
   ]
  },
  {
   "cell_type": "code",
   "execution_count": 93,
   "id": "cce9127f",
   "metadata": {},
   "outputs": [],
   "source": [
    "def str_count(str1, str2 = \"\"):\n",
    "    count = 0\n",
    "    for i in str1.split():\n",
    "        if i.lower() == str2:\n",
    "            count = count+1\n",
    "    return count"
   ]
  },
  {
   "cell_type": "code",
   "execution_count": 98,
   "id": "b236d7aa",
   "metadata": {},
   "outputs": [
    {
     "data": {
      "text/plain": [
       "3"
      ]
     },
     "execution_count": 98,
     "metadata": {},
     "output_type": "execute_result"
    }
   ],
   "source": [
    "str_count(str1,\"india\")"
   ]
  },
  {
   "cell_type": "code",
   "execution_count": null,
   "id": "2f238089",
   "metadata": {},
   "outputs": [],
   "source": []
  }
 ],
 "metadata": {
  "kernelspec": {
   "display_name": "Python 3 (ipykernel)",
   "language": "python",
   "name": "python3"
  },
  "language_info": {
   "codemirror_mode": {
    "name": "ipython",
    "version": 3
   },
   "file_extension": ".py",
   "mimetype": "text/x-python",
   "name": "python",
   "nbconvert_exporter": "python",
   "pygments_lexer": "ipython3",
   "version": "3.9.12"
  }
 },
 "nbformat": 4,
 "nbformat_minor": 5
}
